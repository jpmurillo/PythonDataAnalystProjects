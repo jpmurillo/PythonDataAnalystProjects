{
 "cells": [
  {
   "cell_type": "markdown",
   "metadata": {},
   "source": [
    "### Data Wrangling Mini Project\n",
    "\n",
    "I am a huge football fan, so I have chosen a football data set for this demonstration.\n",
    "\n",
    "#### The goal (of the mini project)\n",
    "My goal is to analyze the performance of the Peruvian national team in World Cup qualifying games since France 1998. For the France 1998, Conmebol (the South American Football federation) updated the format of the world cup qualifiers and decided all teams should face each other during the qualifiers. It is the only federation with this format.\n",
    "\n",
    "But before we can start analyzing the performance of Peru, we need to do some data wrangling and cleaning. \n",
    "\n",
    "#### The dataset\n",
    "Let's discuss the data we have available, and then I'll cover what I want as the final data set (remember this is a data wrangling and preparation project).\n",
    "\n",
    "From Kaggle: \"This dataset includes 44,060 results of international football matches starting from the very first official match in 1972 up to 2019. The matches range from FIFA World Cup to FIFI Wild Cup to regular friendly matches.\"\n",
    "\n",
    "The data includes the following columns:\n",
    "\n",
    "* **_date_** - date of the match\n",
    "* **_home_team_** - the name of the home team\n",
    "* **_away_team_** - the name of the away team\n",
    "* **_home_score_** - full-time home team score including extra time, not including penalty-shootouts\n",
    "* **_away_score_** - full-time away team score including extra time, not including penalty-shootouts\n",
    "* **_tournament_** - the name of the tournament\n",
    "* **_city_** - the name of the city/town/administrative unit where the match was played\n",
    "* **_country_** - the name of the country where the match was played\n",
    "* **_neutral_** - TRUE/FALSE column indicating whether the match was played at a neutral venue\n",
    "\n",
    "#### The approach\n",
    "To prepare the smaller data set with all the games played by the Peruvian national team, we'll do the following:\n",
    "\n",
    "1. Filter out games that do not involve Peru\n",
    "2. Filter out games that are not world cup qualifiers\n",
    "3. Filter out games that were before 1996 (when France 1998 qualifiers began)\n",
    "4. Filter out games against New Zewland (part of intercontinental playoffs)\n",
    "5. Add points relative to wins, draws, lossess\n",
    "6. Add year, month, and day dimensions\n",
    "7. Add goal difference\n",
    "8. Add the world cup qualification process to later (in a separate notebook) do analysis\n",
    "9. Add home game flag\n",
    "\n",
    "#### The final dataset\n",
    "\n",
    "The final dataset will look as follows:\n",
    "\n",
    "* **_date_** - date of the match\n",
    "* **_world_cup_** - the world cup process\n",
    "* **_year_** - year dimension\n",
    "* **_month_** - month dimension\n",
    "* **_day_** - day dimensinos\n",
    "* **_is_home_game_** - home game flag\n",
    "* **_main_team_** - the main team of interest\n",
    "* **_rival_team_** - the rival team\n",
    "* **_win_loss_** - win/loss/draw flag\n",
    "* **_points_** - points for result obtained\n",
    "* **_goals_favor_** - goals scored\n",
    "* **_goals_against_** - goals conceded\n",
    "* **_goal_diff_** - goals scored minues goals conceded\n",
    "\n",
    "Let's dive into it!"
   ]
  },
  {
   "cell_type": "code",
   "execution_count": 1,
   "metadata": {},
   "outputs": [],
   "source": [
    "import pandas as pd\n",
    "import numpy as np\n",
    "import datetime as dt\n",
    "pd.options.mode.chained_assignment = None  # default='warn'"
   ]
  },
  {
   "cell_type": "code",
   "execution_count": 2,
   "metadata": {},
   "outputs": [],
   "source": [
    "df = pd.read_csv('results.csv')"
   ]
  },
  {
   "cell_type": "markdown",
   "metadata": {},
   "source": [
    "Let's take a quick peek at the data."
   ]
  },
  {
   "cell_type": "code",
   "execution_count": 3,
   "metadata": {},
   "outputs": [
    {
     "data": {
      "text/html": [
       "<div>\n",
       "<style scoped>\n",
       "    .dataframe tbody tr th:only-of-type {\n",
       "        vertical-align: middle;\n",
       "    }\n",
       "\n",
       "    .dataframe tbody tr th {\n",
       "        vertical-align: top;\n",
       "    }\n",
       "\n",
       "    .dataframe thead th {\n",
       "        text-align: right;\n",
       "    }\n",
       "</style>\n",
       "<table border=\"1\" class=\"dataframe\">\n",
       "  <thead>\n",
       "    <tr style=\"text-align: right;\">\n",
       "      <th></th>\n",
       "      <th>date</th>\n",
       "      <th>home_team</th>\n",
       "      <th>away_team</th>\n",
       "      <th>home_score</th>\n",
       "      <th>away_score</th>\n",
       "      <th>tournament</th>\n",
       "      <th>city</th>\n",
       "      <th>country</th>\n",
       "      <th>neutral</th>\n",
       "    </tr>\n",
       "  </thead>\n",
       "  <tbody>\n",
       "    <tr>\n",
       "      <th>0</th>\n",
       "      <td>1872-11-30</td>\n",
       "      <td>Scotland</td>\n",
       "      <td>England</td>\n",
       "      <td>0.0</td>\n",
       "      <td>0.0</td>\n",
       "      <td>Friendly</td>\n",
       "      <td>Glasgow</td>\n",
       "      <td>Scotland</td>\n",
       "      <td>False</td>\n",
       "    </tr>\n",
       "    <tr>\n",
       "      <th>1</th>\n",
       "      <td>1873-03-08</td>\n",
       "      <td>England</td>\n",
       "      <td>Scotland</td>\n",
       "      <td>4.0</td>\n",
       "      <td>2.0</td>\n",
       "      <td>Friendly</td>\n",
       "      <td>London</td>\n",
       "      <td>England</td>\n",
       "      <td>False</td>\n",
       "    </tr>\n",
       "    <tr>\n",
       "      <th>2</th>\n",
       "      <td>1874-03-07</td>\n",
       "      <td>Scotland</td>\n",
       "      <td>England</td>\n",
       "      <td>2.0</td>\n",
       "      <td>1.0</td>\n",
       "      <td>Friendly</td>\n",
       "      <td>Glasgow</td>\n",
       "      <td>Scotland</td>\n",
       "      <td>False</td>\n",
       "    </tr>\n",
       "    <tr>\n",
       "      <th>3</th>\n",
       "      <td>1875-03-06</td>\n",
       "      <td>England</td>\n",
       "      <td>Scotland</td>\n",
       "      <td>2.0</td>\n",
       "      <td>2.0</td>\n",
       "      <td>Friendly</td>\n",
       "      <td>London</td>\n",
       "      <td>England</td>\n",
       "      <td>False</td>\n",
       "    </tr>\n",
       "    <tr>\n",
       "      <th>4</th>\n",
       "      <td>1876-03-04</td>\n",
       "      <td>Scotland</td>\n",
       "      <td>England</td>\n",
       "      <td>3.0</td>\n",
       "      <td>0.0</td>\n",
       "      <td>Friendly</td>\n",
       "      <td>Glasgow</td>\n",
       "      <td>Scotland</td>\n",
       "      <td>False</td>\n",
       "    </tr>\n",
       "  </tbody>\n",
       "</table>\n",
       "</div>"
      ],
      "text/plain": [
       "         date home_team away_team  home_score  away_score tournament     city  \\\n",
       "0  1872-11-30  Scotland   England         0.0         0.0   Friendly  Glasgow   \n",
       "1  1873-03-08   England  Scotland         4.0         2.0   Friendly   London   \n",
       "2  1874-03-07  Scotland   England         2.0         1.0   Friendly  Glasgow   \n",
       "3  1875-03-06   England  Scotland         2.0         2.0   Friendly   London   \n",
       "4  1876-03-04  Scotland   England         3.0         0.0   Friendly  Glasgow   \n",
       "\n",
       "    country  neutral  \n",
       "0  Scotland    False  \n",
       "1   England    False  \n",
       "2  Scotland    False  \n",
       "3   England    False  \n",
       "4  Scotland    False  "
      ]
     },
     "execution_count": 3,
     "metadata": {},
     "output_type": "execute_result"
    }
   ],
   "source": [
    "df.head(5)"
   ]
  },
  {
   "cell_type": "markdown",
   "metadata": {},
   "source": [
    "A few things to notice:\n",
    "* **_date_** is not in date or datetime format. It's in string format.\n",
    "* **_home_score_** has 1 null value\n",
    "* **_away_score_** has 1 null value"
   ]
  },
  {
   "cell_type": "code",
   "execution_count": 4,
   "metadata": {},
   "outputs": [
    {
     "name": "stdout",
     "output_type": "stream",
     "text": [
      "<class 'pandas.core.frame.DataFrame'>\n",
      "RangeIndex: 44060 entries, 0 to 44059\n",
      "Data columns (total 9 columns):\n",
      " #   Column      Non-Null Count  Dtype  \n",
      "---  ------      --------------  -----  \n",
      " 0   date        44060 non-null  object \n",
      " 1   home_team   44060 non-null  object \n",
      " 2   away_team   44060 non-null  object \n",
      " 3   home_score  44059 non-null  float64\n",
      " 4   away_score  44059 non-null  float64\n",
      " 5   tournament  44060 non-null  object \n",
      " 6   city        44060 non-null  object \n",
      " 7   country     44060 non-null  object \n",
      " 8   neutral     44060 non-null  bool   \n",
      "dtypes: bool(1), float64(2), object(6)\n",
      "memory usage: 2.7+ MB\n"
     ]
    }
   ],
   "source": [
    "df.info()"
   ]
  },
  {
   "cell_type": "markdown",
   "metadata": {},
   "source": [
    "Luckily the null values in **_home_score_** and **_away_score_** do not involve Peru."
   ]
  },
  {
   "cell_type": "code",
   "execution_count": 5,
   "metadata": {},
   "outputs": [
    {
     "data": {
      "text/html": [
       "<div>\n",
       "<style scoped>\n",
       "    .dataframe tbody tr th:only-of-type {\n",
       "        vertical-align: middle;\n",
       "    }\n",
       "\n",
       "    .dataframe tbody tr th {\n",
       "        vertical-align: top;\n",
       "    }\n",
       "\n",
       "    .dataframe thead th {\n",
       "        text-align: right;\n",
       "    }\n",
       "</style>\n",
       "<table border=\"1\" class=\"dataframe\">\n",
       "  <thead>\n",
       "    <tr style=\"text-align: right;\">\n",
       "      <th></th>\n",
       "      <th>date</th>\n",
       "      <th>home_team</th>\n",
       "      <th>away_team</th>\n",
       "      <th>home_score</th>\n",
       "      <th>away_score</th>\n",
       "      <th>tournament</th>\n",
       "      <th>city</th>\n",
       "      <th>country</th>\n",
       "      <th>neutral</th>\n",
       "    </tr>\n",
       "  </thead>\n",
       "  <tbody>\n",
       "    <tr>\n",
       "      <th>44059</th>\n",
       "      <td>2022-09-30</td>\n",
       "      <td>Fiji</td>\n",
       "      <td>Solomon Islands</td>\n",
       "      <td>NaN</td>\n",
       "      <td>NaN</td>\n",
       "      <td>MSG Prime Minister's Cup</td>\n",
       "      <td>Luganville</td>\n",
       "      <td>Vanuatu</td>\n",
       "      <td>True</td>\n",
       "    </tr>\n",
       "  </tbody>\n",
       "</table>\n",
       "</div>"
      ],
      "text/plain": [
       "             date home_team        away_team  home_score  away_score  \\\n",
       "44059  2022-09-30      Fiji  Solomon Islands         NaN         NaN   \n",
       "\n",
       "                     tournament        city  country  neutral  \n",
       "44059  MSG Prime Minister's Cup  Luganville  Vanuatu     True  "
      ]
     },
     "execution_count": 5,
     "metadata": {},
     "output_type": "execute_result"
    }
   ],
   "source": [
    "df[(df['home_score'].isnull()==True) | (df['away_score'].isnull()==True)]"
   ]
  },
  {
   "cell_type": "markdown",
   "metadata": {},
   "source": [
    "#### Converting the date column to datetime format"
   ]
  },
  {
   "cell_type": "code",
   "execution_count": 6,
   "metadata": {},
   "outputs": [],
   "source": [
    "df['date'] = pd.to_datetime(df['date'])"
   ]
  },
  {
   "cell_type": "markdown",
   "metadata": {},
   "source": [
    "#### Filtering out undesired rows/records\n",
    "Now that we know what type of rows we want to keep, we apply those filters\n",
    "* Keep games that involve Peru\n",
    "* Keep games that are world cup qualifiers\n",
    "* Keep games starting April 24th, 1996 (when France 1998 qualifiers began) and ending before April 1st, 2022 (when the Qatar 2022 qualifiers end)"
   ]
  },
  {
   "cell_type": "code",
   "execution_count": 7,
   "metadata": {},
   "outputs": [],
   "source": [
    "peru_df = df[\n",
    "    ((df['home_team'] == 'Peru') | (df['away_team'] == 'Peru'))\n",
    "    & (df['tournament'] == 'FIFA World Cup qualification')\n",
    "    & (df['date'] > '1996-01-01')\n",
    "    & (df['date'] < '2022-04-01')\n",
    "]"
   ]
  },
  {
   "cell_type": "markdown",
   "metadata": {},
   "source": [
    "Let's take another peek at the data. \n",
    "* We see that all the rows have Peru as the home or away team. \n",
    "* All the rows are WC qualifier games.\n",
    "* Wait, the indices look weird. Let's fix that!"
   ]
  },
  {
   "cell_type": "code",
   "execution_count": 8,
   "metadata": {},
   "outputs": [
    {
     "data": {
      "text/html": [
       "<div>\n",
       "<style scoped>\n",
       "    .dataframe tbody tr th:only-of-type {\n",
       "        vertical-align: middle;\n",
       "    }\n",
       "\n",
       "    .dataframe tbody tr th {\n",
       "        vertical-align: top;\n",
       "    }\n",
       "\n",
       "    .dataframe thead th {\n",
       "        text-align: right;\n",
       "    }\n",
       "</style>\n",
       "<table border=\"1\" class=\"dataframe\">\n",
       "  <thead>\n",
       "    <tr style=\"text-align: right;\">\n",
       "      <th></th>\n",
       "      <th>date</th>\n",
       "      <th>home_team</th>\n",
       "      <th>away_team</th>\n",
       "      <th>home_score</th>\n",
       "      <th>away_score</th>\n",
       "      <th>tournament</th>\n",
       "      <th>city</th>\n",
       "      <th>country</th>\n",
       "      <th>neutral</th>\n",
       "    </tr>\n",
       "  </thead>\n",
       "  <tbody>\n",
       "    <tr>\n",
       "      <th>19819</th>\n",
       "      <td>1996-04-24</td>\n",
       "      <td>Ecuador</td>\n",
       "      <td>Peru</td>\n",
       "      <td>4.0</td>\n",
       "      <td>1.0</td>\n",
       "      <td>FIFA World Cup qualification</td>\n",
       "      <td>Guayaquil</td>\n",
       "      <td>Ecuador</td>\n",
       "      <td>False</td>\n",
       "    </tr>\n",
       "    <tr>\n",
       "      <th>19945</th>\n",
       "      <td>1996-06-02</td>\n",
       "      <td>Peru</td>\n",
       "      <td>Colombia</td>\n",
       "      <td>1.0</td>\n",
       "      <td>1.0</td>\n",
       "      <td>FIFA World Cup qualification</td>\n",
       "      <td>Lima</td>\n",
       "      <td>Peru</td>\n",
       "      <td>False</td>\n",
       "    </tr>\n",
       "    <tr>\n",
       "      <th>20069</th>\n",
       "      <td>1996-07-07</td>\n",
       "      <td>Peru</td>\n",
       "      <td>Argentina</td>\n",
       "      <td>0.0</td>\n",
       "      <td>0.0</td>\n",
       "      <td>FIFA World Cup qualification</td>\n",
       "      <td>Lima</td>\n",
       "      <td>Peru</td>\n",
       "      <td>False</td>\n",
       "    </tr>\n",
       "    <tr>\n",
       "      <th>20155</th>\n",
       "      <td>1996-09-01</td>\n",
       "      <td>Bolivia</td>\n",
       "      <td>Peru</td>\n",
       "      <td>0.0</td>\n",
       "      <td>0.0</td>\n",
       "      <td>FIFA World Cup qualification</td>\n",
       "      <td>La Paz</td>\n",
       "      <td>Bolivia</td>\n",
       "      <td>False</td>\n",
       "    </tr>\n",
       "    <tr>\n",
       "      <th>20358</th>\n",
       "      <td>1996-11-10</td>\n",
       "      <td>Peru</td>\n",
       "      <td>Venezuela</td>\n",
       "      <td>4.0</td>\n",
       "      <td>1.0</td>\n",
       "      <td>FIFA World Cup qualification</td>\n",
       "      <td>Lima</td>\n",
       "      <td>Peru</td>\n",
       "      <td>False</td>\n",
       "    </tr>\n",
       "  </tbody>\n",
       "</table>\n",
       "</div>"
      ],
      "text/plain": [
       "            date home_team  away_team  home_score  away_score  \\\n",
       "19819 1996-04-24   Ecuador       Peru         4.0         1.0   \n",
       "19945 1996-06-02      Peru   Colombia         1.0         1.0   \n",
       "20069 1996-07-07      Peru  Argentina         0.0         0.0   \n",
       "20155 1996-09-01   Bolivia       Peru         0.0         0.0   \n",
       "20358 1996-11-10      Peru  Venezuela         4.0         1.0   \n",
       "\n",
       "                         tournament       city  country  neutral  \n",
       "19819  FIFA World Cup qualification  Guayaquil  Ecuador    False  \n",
       "19945  FIFA World Cup qualification       Lima     Peru    False  \n",
       "20069  FIFA World Cup qualification       Lima     Peru    False  \n",
       "20155  FIFA World Cup qualification     La Paz  Bolivia    False  \n",
       "20358  FIFA World Cup qualification       Lima     Peru    False  "
      ]
     },
     "execution_count": 8,
     "metadata": {},
     "output_type": "execute_result"
    }
   ],
   "source": [
    "peru_df.head(5)"
   ]
  },
  {
   "cell_type": "code",
   "execution_count": 9,
   "metadata": {},
   "outputs": [],
   "source": [
    "peru_df.reset_index(drop=True, inplace=True)"
   ]
  },
  {
   "cell_type": "markdown",
   "metadata": {},
   "source": [
    "Now it looks better!"
   ]
  },
  {
   "cell_type": "code",
   "execution_count": 10,
   "metadata": {},
   "outputs": [
    {
     "data": {
      "text/html": [
       "<div>\n",
       "<style scoped>\n",
       "    .dataframe tbody tr th:only-of-type {\n",
       "        vertical-align: middle;\n",
       "    }\n",
       "\n",
       "    .dataframe tbody tr th {\n",
       "        vertical-align: top;\n",
       "    }\n",
       "\n",
       "    .dataframe thead th {\n",
       "        text-align: right;\n",
       "    }\n",
       "</style>\n",
       "<table border=\"1\" class=\"dataframe\">\n",
       "  <thead>\n",
       "    <tr style=\"text-align: right;\">\n",
       "      <th></th>\n",
       "      <th>date</th>\n",
       "      <th>home_team</th>\n",
       "      <th>away_team</th>\n",
       "      <th>home_score</th>\n",
       "      <th>away_score</th>\n",
       "      <th>tournament</th>\n",
       "      <th>city</th>\n",
       "      <th>country</th>\n",
       "      <th>neutral</th>\n",
       "    </tr>\n",
       "  </thead>\n",
       "  <tbody>\n",
       "    <tr>\n",
       "      <th>0</th>\n",
       "      <td>1996-04-24</td>\n",
       "      <td>Ecuador</td>\n",
       "      <td>Peru</td>\n",
       "      <td>4.0</td>\n",
       "      <td>1.0</td>\n",
       "      <td>FIFA World Cup qualification</td>\n",
       "      <td>Guayaquil</td>\n",
       "      <td>Ecuador</td>\n",
       "      <td>False</td>\n",
       "    </tr>\n",
       "    <tr>\n",
       "      <th>1</th>\n",
       "      <td>1996-06-02</td>\n",
       "      <td>Peru</td>\n",
       "      <td>Colombia</td>\n",
       "      <td>1.0</td>\n",
       "      <td>1.0</td>\n",
       "      <td>FIFA World Cup qualification</td>\n",
       "      <td>Lima</td>\n",
       "      <td>Peru</td>\n",
       "      <td>False</td>\n",
       "    </tr>\n",
       "    <tr>\n",
       "      <th>2</th>\n",
       "      <td>1996-07-07</td>\n",
       "      <td>Peru</td>\n",
       "      <td>Argentina</td>\n",
       "      <td>0.0</td>\n",
       "      <td>0.0</td>\n",
       "      <td>FIFA World Cup qualification</td>\n",
       "      <td>Lima</td>\n",
       "      <td>Peru</td>\n",
       "      <td>False</td>\n",
       "    </tr>\n",
       "    <tr>\n",
       "      <th>3</th>\n",
       "      <td>1996-09-01</td>\n",
       "      <td>Bolivia</td>\n",
       "      <td>Peru</td>\n",
       "      <td>0.0</td>\n",
       "      <td>0.0</td>\n",
       "      <td>FIFA World Cup qualification</td>\n",
       "      <td>La Paz</td>\n",
       "      <td>Bolivia</td>\n",
       "      <td>False</td>\n",
       "    </tr>\n",
       "    <tr>\n",
       "      <th>4</th>\n",
       "      <td>1996-11-10</td>\n",
       "      <td>Peru</td>\n",
       "      <td>Venezuela</td>\n",
       "      <td>4.0</td>\n",
       "      <td>1.0</td>\n",
       "      <td>FIFA World Cup qualification</td>\n",
       "      <td>Lima</td>\n",
       "      <td>Peru</td>\n",
       "      <td>False</td>\n",
       "    </tr>\n",
       "  </tbody>\n",
       "</table>\n",
       "</div>"
      ],
      "text/plain": [
       "        date home_team  away_team  home_score  away_score  \\\n",
       "0 1996-04-24   Ecuador       Peru         4.0         1.0   \n",
       "1 1996-06-02      Peru   Colombia         1.0         1.0   \n",
       "2 1996-07-07      Peru  Argentina         0.0         0.0   \n",
       "3 1996-09-01   Bolivia       Peru         0.0         0.0   \n",
       "4 1996-11-10      Peru  Venezuela         4.0         1.0   \n",
       "\n",
       "                     tournament       city  country  neutral  \n",
       "0  FIFA World Cup qualification  Guayaquil  Ecuador    False  \n",
       "1  FIFA World Cup qualification       Lima     Peru    False  \n",
       "2  FIFA World Cup qualification       Lima     Peru    False  \n",
       "3  FIFA World Cup qualification     La Paz  Bolivia    False  \n",
       "4  FIFA World Cup qualification       Lima     Peru    False  "
      ]
     },
     "execution_count": 10,
     "metadata": {},
     "output_type": "execute_result"
    }
   ],
   "source": [
    "peru_df.head(5)"
   ]
  },
  {
   "cell_type": "code",
   "execution_count": 11,
   "metadata": {},
   "outputs": [],
   "source": [
    "peru_df['is_home_game'] = np.where(peru_df['country'] == 'Peru', 1, 0)"
   ]
  },
  {
   "cell_type": "code",
   "execution_count": 12,
   "metadata": {},
   "outputs": [],
   "source": [
    "peru_df['year'] = peru_df['date'].dt.year\n",
    "peru_df['month'] = peru_df['date'].dt.month\n",
    "peru_df['day'] = peru_df['date'].dt.day"
   ]
  },
  {
   "cell_type": "code",
   "execution_count": 13,
   "metadata": {},
   "outputs": [],
   "source": [
    "def points(row):\n",
    "    if row['home_score'] == row['away_score']:\n",
    "        val = 1\n",
    "    elif row['is_home_game'] == 1 and row['home_score'] > row['away_score']:\n",
    "        val = 3\n",
    "    elif row['is_home_game'] == 0 and row['home_score'] < row['away_score']:\n",
    "        val = 3\n",
    "    elif row['is_home_game'] == 1 and row['home_score'] < row['away_score']:\n",
    "        val = 0\n",
    "    elif row['is_home_game'] == 0 and row['home_score'] > row['away_score']:\n",
    "        val = 0\n",
    "    else:\n",
    "        val = False\n",
    "    return val"
   ]
  },
  {
   "cell_type": "code",
   "execution_count": 14,
   "metadata": {},
   "outputs": [],
   "source": [
    "def goal_diff(row):\n",
    "    if row['is_home_game'] == 1:\n",
    "        val = row['home_score'] - row['away_score']\n",
    "    elif row['is_home_game'] == 0:\n",
    "        val = row['away_score'] - row['home_score']\n",
    "    else:\n",
    "        val = False\n",
    "    return val"
   ]
  },
  {
   "cell_type": "code",
   "execution_count": 15,
   "metadata": {},
   "outputs": [],
   "source": [
    "def rival(row):\n",
    "    if row['is_home_game'] == 1:\n",
    "        val = row['away_team']\n",
    "    elif row['is_home_game'] == 0:\n",
    "        val = row['home_team']\n",
    "    else:\n",
    "        val = False\n",
    "    return val"
   ]
  },
  {
   "cell_type": "code",
   "execution_count": 16,
   "metadata": {},
   "outputs": [],
   "source": [
    "def goal_favor(row):\n",
    "    if row['is_home_game'] == 1:\n",
    "        val = row['home_score']\n",
    "    else:\n",
    "        val = row['away_score']\n",
    "    return val\n",
    "\n",
    "def goal_against(row):\n",
    "    if row['is_home_game'] == 0:\n",
    "        val = row['home_score']\n",
    "    else:\n",
    "        val = row['away_score']\n",
    "    return val"
   ]
  },
  {
   "cell_type": "code",
   "execution_count": 17,
   "metadata": {},
   "outputs": [],
   "source": [
    "def win_loss_tie(row):\n",
    "    if row['home_score'] == row['away_score']:\n",
    "        val = 'T'\n",
    "    elif row['is_home_game'] == 1 and row['home_score'] > row['away_score']:\n",
    "        val = 'W'\n",
    "    elif row['is_home_game'] == 0 and row['home_score'] < row['away_score']:\n",
    "        val = 'W'\n",
    "    elif row['is_home_game'] == 1 and row['home_score'] < row['away_score']:\n",
    "        val = 'L'\n",
    "    elif row['is_home_game'] == 0 and row['home_score'] > row['away_score']:\n",
    "        val = 'L'\n",
    "    else:\n",
    "        val = False\n",
    "    return val"
   ]
  },
  {
   "cell_type": "code",
   "execution_count": 18,
   "metadata": {},
   "outputs": [],
   "source": [
    "def wc_year(row):\n",
    "    if row['year'] == 1996 or row['year'] == 1997:\n",
    "        val = '1998 France'\n",
    "    elif row['year'] == 2000 or row['year'] == 2001:\n",
    "        val = '2002 Japan Korea'\n",
    "    elif row['year'] >= 2003 and row['year'] <= 2005:\n",
    "        val = '2006 Germany'\n",
    "    elif row['year'] >= 2007 and row['year'] <= 2009:\n",
    "        val = '2010 South Africa'\n",
    "    elif row['year'] >= 2011 and row['year'] <= 2013:\n",
    "        val = '2014 Brazil'\n",
    "    elif row['year'] >= 2015 and row['year'] <= 2017:\n",
    "        val = '2018 Russia'\n",
    "    elif row['year'] >= 2020 and row['year'] <= 2022:\n",
    "        val = '2022 Qatar'\n",
    "    return val"
   ]
  },
  {
   "cell_type": "code",
   "execution_count": 19,
   "metadata": {},
   "outputs": [],
   "source": [
    "peru_df['points'] = peru_df.apply(points, axis=1)\n",
    "peru_df['goal_diff'] = peru_df.apply(goal_diff, axis=1)\n",
    "peru_df['rival_team'] = peru_df.apply(rival, axis=1)\n",
    "peru_df['win_loss'] = peru_df.apply(win_loss_tie, axis=1)\n",
    "peru_df['world_cup'] = peru_df.apply(wc_year, axis=1)\n",
    "peru_df['goal_favor'] = peru_df.apply(goal_favor, axis=1)\n",
    "peru_df['goal_against'] = peru_df.apply(goal_against, axis=1)\n",
    "peru_df['main_team'] = 'Peru'"
   ]
  },
  {
   "cell_type": "code",
   "execution_count": 20,
   "metadata": {},
   "outputs": [],
   "source": [
    "peru_df = peru_df[peru_df['rival_team'] != 'New Zealand']"
   ]
  },
  {
   "cell_type": "code",
   "execution_count": 21,
   "metadata": {},
   "outputs": [
    {
     "data": {
      "text/plain": [
       "Index(['date', 'home_team', 'away_team', 'home_score', 'away_score',\n",
       "       'tournament', 'city', 'country', 'neutral', 'is_home_game', 'year',\n",
       "       'month', 'day', 'points', 'goal_diff', 'rival_team', 'win_loss',\n",
       "       'world_cup', 'goal_favor', 'goal_against', 'main_team'],\n",
       "      dtype='object')"
      ]
     },
     "execution_count": 21,
     "metadata": {},
     "output_type": "execute_result"
    }
   ],
   "source": [
    "peru_df.columns"
   ]
  },
  {
   "cell_type": "code",
   "execution_count": 22,
   "metadata": {},
   "outputs": [],
   "source": [
    "peru_df = peru_df[['date', 'world_cup', 'year', 'month', 'day', \n",
    "                   'is_home_game', 'main_team', 'rival_team', \n",
    "                   'win_loss', 'points', 'goal_favor', 'goal_against',\n",
    "                   'goal_diff']]"
   ]
  },
  {
   "cell_type": "code",
   "execution_count": 23,
   "metadata": {},
   "outputs": [
    {
     "name": "stdout",
     "output_type": "stream",
     "text": [
      "<class 'pandas.core.frame.DataFrame'>\n",
      "Int64Index: 122 entries, 0 to 123\n",
      "Data columns (total 13 columns):\n",
      " #   Column        Non-Null Count  Dtype         \n",
      "---  ------        --------------  -----         \n",
      " 0   date          122 non-null    datetime64[ns]\n",
      " 1   world_cup     122 non-null    object        \n",
      " 2   year          122 non-null    int64         \n",
      " 3   month         122 non-null    int64         \n",
      " 4   day           122 non-null    int64         \n",
      " 5   is_home_game  122 non-null    int32         \n",
      " 6   main_team     122 non-null    object        \n",
      " 7   rival_team    122 non-null    object        \n",
      " 8   win_loss      122 non-null    object        \n",
      " 9   points        122 non-null    int64         \n",
      " 10  goal_favor    122 non-null    float64       \n",
      " 11  goal_against  122 non-null    float64       \n",
      " 12  goal_diff     122 non-null    float64       \n",
      "dtypes: datetime64[ns](1), float64(3), int32(1), int64(4), object(4)\n",
      "memory usage: 12.9+ KB\n"
     ]
    }
   ],
   "source": [
    "peru_df.info()"
   ]
  },
  {
   "cell_type": "code",
   "execution_count": 24,
   "metadata": {},
   "outputs": [
    {
     "data": {
      "text/html": [
       "<div>\n",
       "<style scoped>\n",
       "    .dataframe tbody tr th:only-of-type {\n",
       "        vertical-align: middle;\n",
       "    }\n",
       "\n",
       "    .dataframe tbody tr th {\n",
       "        vertical-align: top;\n",
       "    }\n",
       "\n",
       "    .dataframe thead th {\n",
       "        text-align: right;\n",
       "    }\n",
       "</style>\n",
       "<table border=\"1\" class=\"dataframe\">\n",
       "  <thead>\n",
       "    <tr style=\"text-align: right;\">\n",
       "      <th></th>\n",
       "      <th>date</th>\n",
       "      <th>world_cup</th>\n",
       "      <th>year</th>\n",
       "      <th>month</th>\n",
       "      <th>day</th>\n",
       "      <th>is_home_game</th>\n",
       "      <th>main_team</th>\n",
       "      <th>rival_team</th>\n",
       "      <th>win_loss</th>\n",
       "      <th>points</th>\n",
       "      <th>goal_favor</th>\n",
       "      <th>goal_against</th>\n",
       "      <th>goal_diff</th>\n",
       "    </tr>\n",
       "  </thead>\n",
       "  <tbody>\n",
       "    <tr>\n",
       "      <th>0</th>\n",
       "      <td>1996-04-24</td>\n",
       "      <td>1998 France</td>\n",
       "      <td>1996</td>\n",
       "      <td>4</td>\n",
       "      <td>24</td>\n",
       "      <td>0</td>\n",
       "      <td>Peru</td>\n",
       "      <td>Ecuador</td>\n",
       "      <td>L</td>\n",
       "      <td>0</td>\n",
       "      <td>1.0</td>\n",
       "      <td>4.0</td>\n",
       "      <td>-3.0</td>\n",
       "    </tr>\n",
       "    <tr>\n",
       "      <th>1</th>\n",
       "      <td>1996-06-02</td>\n",
       "      <td>1998 France</td>\n",
       "      <td>1996</td>\n",
       "      <td>6</td>\n",
       "      <td>2</td>\n",
       "      <td>1</td>\n",
       "      <td>Peru</td>\n",
       "      <td>Colombia</td>\n",
       "      <td>T</td>\n",
       "      <td>1</td>\n",
       "      <td>1.0</td>\n",
       "      <td>1.0</td>\n",
       "      <td>0.0</td>\n",
       "    </tr>\n",
       "    <tr>\n",
       "      <th>2</th>\n",
       "      <td>1996-07-07</td>\n",
       "      <td>1998 France</td>\n",
       "      <td>1996</td>\n",
       "      <td>7</td>\n",
       "      <td>7</td>\n",
       "      <td>1</td>\n",
       "      <td>Peru</td>\n",
       "      <td>Argentina</td>\n",
       "      <td>T</td>\n",
       "      <td>1</td>\n",
       "      <td>0.0</td>\n",
       "      <td>0.0</td>\n",
       "      <td>0.0</td>\n",
       "    </tr>\n",
       "    <tr>\n",
       "      <th>3</th>\n",
       "      <td>1996-09-01</td>\n",
       "      <td>1998 France</td>\n",
       "      <td>1996</td>\n",
       "      <td>9</td>\n",
       "      <td>1</td>\n",
       "      <td>0</td>\n",
       "      <td>Peru</td>\n",
       "      <td>Bolivia</td>\n",
       "      <td>T</td>\n",
       "      <td>1</td>\n",
       "      <td>0.0</td>\n",
       "      <td>0.0</td>\n",
       "      <td>0.0</td>\n",
       "    </tr>\n",
       "    <tr>\n",
       "      <th>4</th>\n",
       "      <td>1996-11-10</td>\n",
       "      <td>1998 France</td>\n",
       "      <td>1996</td>\n",
       "      <td>11</td>\n",
       "      <td>10</td>\n",
       "      <td>1</td>\n",
       "      <td>Peru</td>\n",
       "      <td>Venezuela</td>\n",
       "      <td>W</td>\n",
       "      <td>3</td>\n",
       "      <td>4.0</td>\n",
       "      <td>1.0</td>\n",
       "      <td>3.0</td>\n",
       "    </tr>\n",
       "  </tbody>\n",
       "</table>\n",
       "</div>"
      ],
      "text/plain": [
       "        date    world_cup  year  month  day  is_home_game main_team  \\\n",
       "0 1996-04-24  1998 France  1996      4   24             0      Peru   \n",
       "1 1996-06-02  1998 France  1996      6    2             1      Peru   \n",
       "2 1996-07-07  1998 France  1996      7    7             1      Peru   \n",
       "3 1996-09-01  1998 France  1996      9    1             0      Peru   \n",
       "4 1996-11-10  1998 France  1996     11   10             1      Peru   \n",
       "\n",
       "  rival_team win_loss  points  goal_favor  goal_against  goal_diff  \n",
       "0    Ecuador        L       0         1.0           4.0       -3.0  \n",
       "1   Colombia        T       1         1.0           1.0        0.0  \n",
       "2  Argentina        T       1         0.0           0.0        0.0  \n",
       "3    Bolivia        T       1         0.0           0.0        0.0  \n",
       "4  Venezuela        W       3         4.0           1.0        3.0  "
      ]
     },
     "execution_count": 24,
     "metadata": {},
     "output_type": "execute_result"
    }
   ],
   "source": [
    "peru_df.head(5)"
   ]
  },
  {
   "cell_type": "markdown",
   "metadata": {},
   "source": [
    "Writing the resulting dataset to a csv file. We'll use it in the next notebooks."
   ]
  },
  {
   "cell_type": "code",
   "execution_count": 25,
   "metadata": {},
   "outputs": [],
   "source": [
    "peru_df.to_csv('peru_wc_results.csv', index = False)"
   ]
  }
 ],
 "metadata": {
  "kernelspec": {
   "display_name": "Python 3",
   "language": "python",
   "name": "python3"
  },
  "language_info": {
   "codemirror_mode": {
    "name": "ipython",
    "version": 3
   },
   "file_extension": ".py",
   "mimetype": "text/x-python",
   "name": "python",
   "nbconvert_exporter": "python",
   "pygments_lexer": "ipython3",
   "version": "3.6.12"
  }
 },
 "nbformat": 4,
 "nbformat_minor": 4
}
